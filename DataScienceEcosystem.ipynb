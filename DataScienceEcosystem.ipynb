{
 "cells": [
  {
   "cell_type": "markdown",
   "id": "c9c55999-7ddc-4b4e-9bd3-f2f5eabbf54d",
   "metadata": {},
   "source": [
    "# Data Science Tools and Ecosystem"
   ]
  },
  {
   "cell_type": "markdown",
   "id": "e3fac624-8a73-4ef4-b799-4e17a60a80ea",
   "metadata": {},
   "source": [
    "In this notebook, Data Science Tools and Ecosystem are summarized."
   ]
  },
  {
   "cell_type": "markdown",
   "id": "2494ca65-f161-444b-a52f-d55a2f8d34b3",
   "metadata": {
    "tags": []
   },
   "source": [
    "__Objectives:__\n",
    "* List popular languages for Data Science\n",
    "* List popular libraries for Data Science\n",
    "* List popular tools for Data Science\n",
    "* Do some example calculations"
   ]
  },
  {
   "cell_type": "markdown",
   "id": "5363a433-2447-4c06-88c5-7d8e4bf6ead9",
   "metadata": {},
   "source": [
    "Some of the popular languages that Data Scientists use are:\n",
    "\n",
    "1. Python\n",
    "2. R\n",
    "3. Julia"
   ]
  },
  {
   "cell_type": "markdown",
   "id": "7b32a950-a2c1-432b-87fb-d894c4caf455",
   "metadata": {
    "tags": []
   },
   "source": [
    "Some of the commonly used libraries used by Data Scientists include:\n",
    "\n",
    "1. Pandas\n",
    "2. Matplotlib\n",
    "3. Numpy\n",
    "4. Plotly"
   ]
  },
  {
   "cell_type": "markdown",
   "id": "71681798-cfae-4581-9bd3-f4ceaf561fc5",
   "metadata": {
    "tags": []
   },
   "source": [
    "| Data Science Tools | \n",
    "|:--------:|\n",
    "|  Hadoop   | \n",
    "|  Spark   |  \n",
    "|  RStudio  |"
   ]
  },
  {
   "cell_type": "markdown",
   "id": "0cacd1a2-03d5-4b4d-bc42-adf8ed72258d",
   "metadata": {},
   "source": [
    "### Below are a few examples of evaluating arithmetic expressions in Python"
   ]
  },
  {
   "cell_type": "code",
   "execution_count": 5,
   "id": "e93687aa-ebbb-47e0-a2d3-417c95d443fa",
   "metadata": {
    "tags": []
   },
   "outputs": [
    {
     "data": {
      "text/plain": [
       "17"
      ]
     },
     "execution_count": 5,
     "metadata": {},
     "output_type": "execute_result"
    }
   ],
   "source": [
    "# This a simple arithmetic expression to mutiply then add integers\n",
    "(3*4)+5\n"
   ]
  },
  {
   "cell_type": "code",
   "execution_count": 4,
   "id": "a33060bb-b031-48c9-abe6-54ddab72319c",
   "metadata": {
    "tags": []
   },
   "outputs": [
    {
     "data": {
      "text/plain": [
       "3.3333333333333335"
      ]
     },
     "execution_count": 4,
     "metadata": {},
     "output_type": "execute_result"
    }
   ],
   "source": [
    "# This will convert 200 minutes to hours by diving by 60\n",
    "200/60"
   ]
  },
  {
   "cell_type": "markdown",
   "id": "2c84f6e7-7c96-49cb-a747-8e8a8b0ad6b2",
   "metadata": {},
   "source": [
    "## Author\n",
    "Eduardo Lucas Lorenzon"
   ]
  },
  {
   "cell_type": "code",
   "execution_count": null,
   "id": "4a238085-d74e-404e-a626-4c8dfa868bfb",
   "metadata": {},
   "outputs": [],
   "source": []
  }
 ],
 "metadata": {
  "kernelspec": {
   "display_name": "Python 3 (ipykernel)",
   "language": "python",
   "name": "python3"
  },
  "language_info": {
   "codemirror_mode": {
    "name": "ipython",
    "version": 3
   },
   "file_extension": ".py",
   "mimetype": "text/x-python",
   "name": "python",
   "nbconvert_exporter": "python",
   "pygments_lexer": "ipython3",
   "version": "3.11.5"
  }
 },
 "nbformat": 4,
 "nbformat_minor": 5
}
